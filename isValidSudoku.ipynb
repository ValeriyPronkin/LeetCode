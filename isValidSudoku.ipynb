{
 "cells": [
  {
   "cell_type": "code",
   "execution_count": 113,
   "metadata": {},
   "outputs": [
    {
     "name": "stdout",
     "output_type": "stream",
     "text": [
      "Check row\n",
      "Check col\n",
      "Check  0 0  3*3\n",
      "Check  0 1  3*3\n",
      "Check  0 2  3*3\n",
      "Check  1 0  3*3\n",
      "Check  1 1  3*3\n",
      "Check  1 2  3*3\n",
      "Check  2 0  3*3\n",
      "Check  2 1  3*3\n",
      "Check  2 2  3*3\n"
     ]
    },
    {
     "data": {
      "text/plain": [
       "(False, {'2': 1, '8': 1, '7': 1, '5': 1, '9': 1})"
      ]
     },
     "execution_count": 113,
     "metadata": {},
     "output_type": "execute_result"
    }
   ],
   "source": [
    "nums=[\n",
    "  [\"5\",\"3\",\".\",\".\",\"7\",\".\",\".\",\".\",\".\"],\n",
    "  [\"6\",\".\",\".\",\"1\",\"9\",\"5\",\".\",\".\",\".\"],\n",
    "  [\".\",\"9\",\"8\",\".\",\".\",\".\",\".\",\"6\",\".\"],\n",
    "  [\"8\",\".\",\".\",\".\",\"6\",\".\",\".\",\".\",\"3\"],\n",
    "  [\"4\",\".\",\".\",\"8\",\".\",\"3\",\".\",\".\",\"1\"],\n",
    "  [\"7\",\".\",\".\",\".\",\"2\",\".\",\".\",\".\",\"6\"],\n",
    "  [\".\",\"6\",\".\",\".\",\".\",\".\",\"2\",\"8\",\".\"],\n",
    "  [\".\",\".\",\".\",\"4\",\"1\",\"9\",\".\",\".\",\"5\"],\n",
    "  [\".\",\".\",\".\",\".\",\"8\",\".\",\".\",\"7\",\"9\"]\n",
    "]\n",
    "col = 9\n",
    "row = 9\n",
    "res = False\n",
    "def isValidSudoku(nums):\n",
    "    \n",
    "    print('Check row')\n",
    "    for j in range(col):\n",
    "        d = {}\n",
    "        res = False\n",
    "        for i in range(row):\n",
    "            if nums[j][i] != '.':\n",
    "                #print(nums[j][i], d.get(nums[j][i]))\n",
    "                if (d.get(nums[j][i]) != None):\n",
    "                    res = True\n",
    "                    return res\n",
    "                d[nums[j][i]] = 1\n",
    "        #print(d, res)\n",
    "    \n",
    "    print('Check col')    \n",
    "    for i in range(row):\n",
    "        d = {}\n",
    "        res = False\n",
    "        for j in range(col):\n",
    "            if nums[j][i] != '.':\n",
    "                #print(nums[j][i], d.get(nums[j][i]))\n",
    "                if (d.get(nums[j][i]) != None):\n",
    "                    res = True\n",
    "                    return res\n",
    "                d[nums[j][i]] = 1\n",
    "        #print(d, res)\n",
    "    \n",
    "    for ii in range(3):\n",
    "        for jj in range(3):\n",
    "            \n",
    "            print('Check ', ii, jj, ' 3*3')    \n",
    "            d = {}\n",
    "            for i in range(ii*3, 3*(ii+1)):\n",
    "                res = False\n",
    "                for j in range(jj*3, 3*(jj+1)):\n",
    "                    if nums[j][i] != '.':\n",
    "                        #print(i, j, nums[j][i], d.get(nums[j][i]))\n",
    "                        if (d.get(nums[j][i]) != None):\n",
    "                            res = True\n",
    "                            return res, d\n",
    "                        d[nums[j][i]] = 1\n",
    "                #print(d, res)\n",
    "            \n",
    "    return res, d\n",
    "isValidSudoku(nums)    "
   ]
  },
  {
   "cell_type": "code",
   "execution_count": 114,
   "metadata": {},
   "outputs": [
    {
     "name": "stdout",
     "output_type": "stream",
     "text": [
      "Check row\n",
      "Check col\n"
     ]
    },
    {
     "data": {
      "text/plain": [
       "True"
      ]
     },
     "execution_count": 114,
     "metadata": {},
     "output_type": "execute_result"
    }
   ],
   "source": [
    "nums=[\n",
    "  [\"8\",\"3\",\".\",\".\",\"7\",\".\",\".\",\".\",\".\"],\n",
    "  [\"6\",\".\",\".\",\"1\",\"9\",\"5\",\".\",\".\",\".\"],\n",
    "  [\".\",\"9\",\"8\",\".\",\".\",\".\",\".\",\"6\",\".\"],\n",
    "  [\"8\",\".\",\".\",\".\",\"6\",\".\",\".\",\".\",\"3\"],\n",
    "  [\"4\",\".\",\".\",\"8\",\".\",\"3\",\".\",\".\",\"1\"],\n",
    "  [\"7\",\".\",\".\",\".\",\"2\",\".\",\".\",\".\",\"6\"],\n",
    "  [\".\",\"6\",\".\",\".\",\".\",\".\",\"2\",\"8\",\".\"],\n",
    "  [\".\",\".\",\".\",\"4\",\"1\",\"9\",\".\",\".\",\"5\"],\n",
    "  [\".\",\".\",\".\",\".\",\"8\",\".\",\".\",\"7\",\"9\"]\n",
    "]\n",
    "isValidSudoku(nums)"
   ]
  },
  {
   "cell_type": "code",
   "execution_count": null,
   "metadata": {},
   "outputs": [],
   "source": [
    "class Solution:\n",
    "    def isValidSudoku(self, board: List[List[str]]) -> bool:\n",
    "        for j in range(9):\n",
    "            d = {}\n",
    "            res = True\n",
    "            for i in range(9):\n",
    "                if board[j][i] != '.':\n",
    "                    if (d.get(board[j][i]) != None):\n",
    "                        res = False\n",
    "                        return res\n",
    "                    d[board[j][i]] = 1\n",
    "        for i in range(9):\n",
    "            d = {}\n",
    "            res = True\n",
    "            for j in range(9):\n",
    "                if board[j][i] != '.':\n",
    "                    if (d.get(board[j][i]) != None):\n",
    "                        res = False\n",
    "                        return res\n",
    "                    d[board[j][i]] = 1\n",
    "        for ii in range(3):\n",
    "            for jj in range(3):\n",
    "            \n",
    "                d = {}\n",
    "                for i in range(ii*3, 3*(ii+1)):\n",
    "                    res = True\n",
    "                    for j in range(jj*3, 3*(jj+1)):\n",
    "                        if board[j][i] != '.':\n",
    "                            if (d.get(board[j][i]) != None):\n",
    "                                res = False\n",
    "                                return res\n",
    "                            d[board[j][i]] = 1\n",
    "             \n",
    "        return res"
   ]
  },
  {
   "cell_type": "code",
   "execution_count": null,
   "metadata": {},
   "outputs": [],
   "source": []
  },
  {
   "cell_type": "code",
   "execution_count": 66,
   "metadata": {},
   "outputs": [
    {
     "name": "stdout",
     "output_type": "stream",
     "text": [
      "None\n"
     ]
    }
   ],
   "source": [
    "#Given input \n",
    "matrix = [\n",
    "  [1,2,3],\n",
    "  [4,5,6],\n",
    "  [7,8,9]\n",
    "]"
   ]
  },
  {
   "cell_type": "code",
   "execution_count": null,
   "metadata": {},
   "outputs": [],
   "source": [
    "[\n",
    "  [7,4,1],\n",
    "  [8,5,2],\n",
    "  [9,6,3]\n",
    "]"
   ]
  }
 ],
 "metadata": {
  "kernelspec": {
   "display_name": "Python 3",
   "language": "python",
   "name": "python3"
  },
  "language_info": {
   "codemirror_mode": {
    "name": "ipython",
    "version": 3
   },
   "file_extension": ".py",
   "mimetype": "text/x-python",
   "name": "python",
   "nbconvert_exporter": "python",
   "pygments_lexer": "ipython3",
   "version": "3.6.8"
  }
 },
 "nbformat": 4,
 "nbformat_minor": 2
}
