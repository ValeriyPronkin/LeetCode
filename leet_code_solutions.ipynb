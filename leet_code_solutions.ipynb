{
 "cells": [
  {
   "cell_type": "markdown",
   "metadata": {},
   "source": [
    "#    # Task solving LeetCode part of Easy Collection"
   ]
  },
  {
   "cell_type": "markdown",
   "metadata": {},
   "source": [
    "**Remove Duplicates from Sorted Array**\n",
    "\n",
    "Given a sorted array nums, remove the duplicates in-place such that each element appear only once and return the new length.\n",
    "\n",
    "Do not allocate extra space for another array, you must do this by modifying the input array in-place with O(1) extra memory.\n",
    "\n",
    "Example 1:"
   ]
  },
  {
   "cell_type": "markdown",
   "metadata": {},
   "source": [
    "Given nums = [1,1,2],\n",
    "\n",
    "Your function should return length = 2, with the first two elements of nums being 1 and 2 respectively.\n",
    "\n",
    "It doesn't matter what you leave beyond the returned length."
   ]
  },
  {
   "cell_type": "code",
   "execution_count": 4,
   "metadata": {},
   "outputs": [
    {
     "name": "stdout",
     "output_type": "stream",
     "text": [
      "0 1 1\n",
      "1 1 1\n",
      "2 2 2\n"
     ]
    },
    {
     "data": {
      "text/plain": [
       "2"
      ]
     },
     "execution_count": 4,
     "metadata": {},
     "output_type": "execute_result"
    }
   ],
   "source": [
    "def removeDuplicates(nums):\n",
    "    j = 0\n",
    "    for i in range(len(nums)):\n",
    "        if (nums[i-1] != nums[i]) or (i == 0):\n",
    "            j += 1\n",
    "        print (i, j, nums[i])\n",
    "    return j\n",
    "nums = [1, 1, 2]\n",
    "removeDuplicates(nums)"
   ]
  },
  {
   "cell_type": "code",
   "execution_count": 5,
   "metadata": {},
   "outputs": [
    {
     "name": "stdout",
     "output_type": "stream",
     "text": [
      "0 1 1\n",
      "1 1 1\n",
      "2 2 2\n"
     ]
    },
    {
     "data": {
      "text/plain": [
       "2"
      ]
     },
     "execution_count": 5,
     "metadata": {},
     "output_type": "execute_result"
    }
   ],
   "source": [
    "#Example 1:\n",
    "nums = [1, 1, 2]\n",
    "removeDuplicates(nums)"
   ]
  },
  {
   "cell_type": "code",
   "execution_count": 6,
   "metadata": {},
   "outputs": [
    {
     "name": "stdout",
     "output_type": "stream",
     "text": [
      "0 1 0\n",
      "1 1 0\n",
      "2 2 1\n",
      "3 2 1\n",
      "4 2 1\n",
      "5 3 2\n",
      "6 3 2\n",
      "7 4 3\n",
      "8 4 3\n",
      "9 5 4\n"
     ]
    },
    {
     "data": {
      "text/plain": [
       "5"
      ]
     },
     "execution_count": 6,
     "metadata": {},
     "output_type": "execute_result"
    }
   ],
   "source": [
    "#Example 2:\n",
    "nums = [0,0,1,1,1,2,2,3,3,4]\n",
    "removeDuplicates(nums)"
   ]
  },
  {
   "cell_type": "markdown",
   "metadata": {},
   "source": [
    "# Лучшее время для покупки и продажи акций II\n",
    "Допустим, у вас есть массив, для которого i- й элемент является ценой данной акции в день i .\n",
    "\n",
    "Разработайте алгоритм поиска максимальной прибыли. Вы можете совершить столько транзакций, сколько захотите (т.е. купить одну и продать одну акцию несколько раз).\n",
    "\n",
    "Примечание. Вы не можете участвовать в нескольких транзакциях одновременно (т. Е. Вы должны продать акцию перед повторной покупкой).\n",
    "\n",
    "Пример 1:"
   ]
  },
  {
   "cell_type": "code",
   "execution_count": null,
   "metadata": {},
   "outputs": [],
   "source": [
    "# Входные данные: [7,1,5,3,6,4]\n",
    "# Выходные данные: 7"
   ]
  },
  {
   "cell_type": "code",
   "execution_count": 26,
   "metadata": {},
   "outputs": [],
   "source": [
    "def maxSum(nums):\n",
    "    sdelka = 0 # акция продана\n",
    "    Sum = 0\n",
    "    print\n",
    "    for i in range(len(nums)):\n",
    "        if ((i + 1) == len(nums)):\n",
    "            if (sdelka == 1):\n",
    "                sdelka = 0\n",
    "                Sum += nums[i]\n",
    "            break\n",
    "        if (nums[i] < nums[i+1]) & (sdelka == 0):\n",
    "            sdelka = 1 # акция куплина\n",
    "            Sum -= nums[i]\n",
    "        if (nums[i] > nums[i+1]) & (sdelka == 1):\n",
    "            sdelka = 0 # акция продана\n",
    "            Sum += nums[i]\n",
    "        print (i, sdelka, Sum)\n",
    "    return Sum"
   ]
  },
  {
   "cell_type": "code",
   "execution_count": 27,
   "metadata": {},
   "outputs": [
    {
     "name": "stdout",
     "output_type": "stream",
     "text": [
      "0 0 0\n",
      "1 1 -1\n",
      "2 0 4\n",
      "3 1 1\n",
      "4 0 7\n"
     ]
    },
    {
     "data": {
      "text/plain": [
       "7"
      ]
     },
     "execution_count": 27,
     "metadata": {},
     "output_type": "execute_result"
    }
   ],
   "source": [
    "nums = [7,1,5,3,6,4]\n",
    "maxSum(nums)"
   ]
  },
  {
   "cell_type": "code",
   "execution_count": 28,
   "metadata": {},
   "outputs": [
    {
     "name": "stdout",
     "output_type": "stream",
     "text": [
      "0 1 -1\n",
      "1 1 -1\n",
      "2 1 -1\n",
      "3 1 -1\n"
     ]
    },
    {
     "data": {
      "text/plain": [
       "4"
      ]
     },
     "execution_count": 28,
     "metadata": {},
     "output_type": "execute_result"
    }
   ],
   "source": [
    "nums = [1,2,3,4,5]\n",
    "maxSum(nums)"
   ]
  },
  {
   "cell_type": "code",
   "execution_count": 29,
   "metadata": {},
   "outputs": [
    {
     "name": "stdout",
     "output_type": "stream",
     "text": [
      "0 0 0\n",
      "1 0 0\n",
      "2 0 0\n",
      "3 0 0\n"
     ]
    },
    {
     "data": {
      "text/plain": [
       "0"
      ]
     },
     "execution_count": 29,
     "metadata": {},
     "output_type": "execute_result"
    }
   ],
   "source": [
    "nums = [7,6,4,3,1]\n",
    "maxSum(nums)"
   ]
  },
  {
   "cell_type": "markdown",
   "metadata": {},
   "source": [
    "# Повернуть массив\n",
    "Решение\n",
    "Для данного массива поверните массив вправо на k шагов, где  k  неотрицательно."
   ]
  },
  {
   "cell_type": "markdown",
   "metadata": {},
   "source": [
    "Ввод: [1,2,3,4,5,6,7] и k = 3\n",
    " Выход:  [5,6,7,1,2,3,4]\n",
    "Объяснение: \n",
    "повернуть на 1 шаг вправо: [7,1,2,3,4,5,6]\n",
    "повернуть на 2 шага вправо: [6,7,1,2,3,4,5]\n",
    "повернуть на 3 шага вправо:[5,6,7,1,2,3,4]"
   ]
  },
  {
   "cell_type": "code",
   "execution_count": 2,
   "metadata": {},
   "outputs": [],
   "source": [
    "def rotate(nums,k):\n",
    "    for i in range(len(nums)):\n",
    "        print (nums[i-k])\n",
    "    return"
   ]
  },
  {
   "cell_type": "code",
   "execution_count": 3,
   "metadata": {},
   "outputs": [
    {
     "name": "stdout",
     "output_type": "stream",
     "text": [
      "5\n",
      "6\n",
      "7\n",
      "1\n",
      "2\n",
      "3\n",
      "4\n"
     ]
    }
   ],
   "source": [
    "nums = [1,2,3,4,5,6,7]\n",
    "rotate(nums,3)"
   ]
  },
  {
   "cell_type": "code",
   "execution_count": 4,
   "metadata": {},
   "outputs": [
    {
     "name": "stdout",
     "output_type": "stream",
     "text": [
      "3\n",
      "99\n",
      "-1\n",
      "-100\n"
     ]
    }
   ],
   "source": [
    "nums = [-1,-100,3,99]\n",
    "k = 2\n",
    "# Выход: [3,99, -1, -100]\n",
    "rotate(nums,k)"
   ]
  },
  {
   "cell_type": "markdown",
   "metadata": {},
   "source": [
    "# Содержит дубликат\n",
    "Решение\n",
    "По заданному массиву целых чисел найдите, содержит ли массив дубликаты.\n",
    "\n",
    "Ваша функция должна возвращать true, если какое-либо значение встречается в массиве хотя бы дважды, и возвращать false, если каждый элемент отличается.\n",
    "\n",
    "Пример 1:\n",
    "\n",
    "Ввод: [1,2,3,1] Ввод\n",
    " : правда"
   ]
  },
  {
   "cell_type": "code",
   "execution_count": 6,
   "metadata": {},
   "outputs": [],
   "source": [
    "def containsDuplicate(nums):\n",
    "    res = False\n",
    "    for i in range(len(nums)):\n",
    "        for j in range(len(nums)):\n",
    "            if (nums[i] == nums[j]) & (j != i):\n",
    "                res = True\n",
    "                print (nums[i-k])\n",
    "    return res"
   ]
  },
  {
   "cell_type": "code",
   "execution_count": 8,
   "metadata": {},
   "outputs": [
    {
     "data": {
      "text/plain": [
       "False"
      ]
     },
     "execution_count": 8,
     "metadata": {},
     "output_type": "execute_result"
    }
   ],
   "source": [
    "nums = [1,2,3]\n",
    "containsDuplicate(nums)"
   ]
  },
  {
   "cell_type": "code",
   "execution_count": null,
   "metadata": {},
   "outputs": [],
   "source": []
  }
 ],
 "metadata": {
  "kernelspec": {
   "display_name": "Python 3",
   "language": "python",
   "name": "python3"
  },
  "language_info": {
   "codemirror_mode": {
    "name": "ipython",
    "version": 3
   },
   "file_extension": ".py",
   "mimetype": "text/x-python",
   "name": "python",
   "nbconvert_exporter": "python",
   "pygments_lexer": "ipython3",
   "version": "3.6.6"
  }
 },
 "nbformat": 4,
 "nbformat_minor": 2
}
